{
 "cells": [
  {
   "cell_type": "code",
   "execution_count": 1,
   "metadata": {},
   "outputs": [],
   "source": [
    "import os\n",
    "import glob\n",
    "import h5py\n",
    "import scipy.ndimage\n",
    "import numpy as np"
   ]
  },
  {
   "cell_type": "code",
   "execution_count": 2,
   "metadata": {},
   "outputs": [],
   "source": [
    "ROOT_DIR = os.path.normpath(os.path.join(os.path.dirname(os.path.realpath('__file__'))))\n",
    "SOURCE_DIR = os.path.abspath('/data/aumkar/train')\n",
    "TARGET_DIR = os.path.abspath('/data/aumkar/validation')\n",
    "DATA_LOAD_DIR = os.path.abspath('/data/aumkar/data_load')"
   ]
  },
  {
   "cell_type": "code",
   "execution_count": 3,
   "metadata": {},
   "outputs": [],
   "source": [
    "DIR_LIST1 = ['aeroplane', 'bicycle', 'horse']\n",
    "DIR_LIST2 = ['knife', 'person', 'plant']\n",
    "DIR_LIST3 = ['train', 'truck', 'bus']\n",
    "DIR_LIST4 = ['car', 'motorcycle', 'skateboard']"
   ]
  },
  {
   "cell_type": "code",
   "execution_count": 4,
   "metadata": {},
   "outputs": [],
   "source": [
    "dir_list1 = [DIR_LIST1, DIR_LIST2]\n",
    "dir_list2 = [DIR_LIST3, DIR_LIST4]"
   ]
  },
  {
   "cell_type": "code",
   "execution_count": 5,
   "metadata": {},
   "outputs": [],
   "source": [
    "def data_load(dirs, lab):\n",
    "    \n",
    "    x, y = [], []\n",
    "    path = glob.glob(os.path.join(dirs, lab))\n",
    "    print(path)\n",
    "    for label, img in enumerate(path):\n",
    "        #print(label, img)\n",
    "        for i in glob.glob(os.path.join(img, '*.*')):\n",
    "            #print(i, label)\n",
    "            x.append(scipy.ndimage.imread(i, mode='RGB'))\n",
    "            y.append(label)\n",
    "    \n",
    "    return np.asarray(x), np.asarray(y)"
   ]
  },
  {
   "cell_type": "code",
   "execution_count": null,
   "metadata": {
    "scrolled": false
   },
   "outputs": [],
   "source": [
    "x_, y_ = [], []\n",
    "\n",
    "#Run for source data\n",
    "for i in dir_list2:\n",
    "    for j in i:\n",
    "    \n",
    "        x, y = data_load(SOURCE_DIR, j)\n",
    "        print('Finished reading source data for class', j)\n",
    "\n",
    "        x_.extend(x)\n",
    "        y_.extend(y)\n",
    "    \n",
    "    \n",
    "xsource = np.asarray(x_)\n",
    "ysource = np.asarray(y_)"
   ]
  },
  {
   "cell_type": "code",
   "execution_count": null,
   "metadata": {},
   "outputs": [],
   "source": [
    "(xsource.shape, ysource.shape)"
   ]
  },
  {
   "cell_type": "code",
   "execution_count": null,
   "metadata": {},
   "outputs": [],
   "source": [
    "h5f = h5py.File(os.path.join(DATA_LOAD_DIR, 'xsource2.h5'), 'w')\n",
    "h5f.create_dataset('xsource_2', data = xsource)"
   ]
  },
  {
   "cell_type": "code",
   "execution_count": null,
   "metadata": {},
   "outputs": [],
   "source": [
    "h5f_ = h5py.File(os.path.join(DATA_LOAD_DIR, 'ysource2.h5'), 'w')\n",
    "h5f_.create_dataset('ysource_2', data = ysource)"
   ]
  },
  {
   "cell_type": "code",
   "execution_count": null,
   "metadata": {},
   "outputs": [],
   "source": [
    "h5f.close()"
   ]
  },
  {
   "cell_type": "code",
   "execution_count": null,
   "metadata": {},
   "outputs": [],
   "source": [
    "h5f_.close()"
   ]
  },
  {
   "cell_type": "code",
   "execution_count": 6,
   "metadata": {},
   "outputs": [
    {
     "name": "stdout",
     "output_type": "stream",
     "text": [
      "['/data/aumkar/validation/aeroplane']\n"
     ]
    },
    {
     "name": "stderr",
     "output_type": "stream",
     "text": [
      "/home/aumkar/anaconda3/envs/daenv/lib/python3.6/site-packages/ipykernel_launcher.py:10: DeprecationWarning: `imread` is deprecated!\n",
      "`imread` is deprecated in SciPy 1.0.0.\n",
      "Use ``matplotlib.pyplot.imread`` instead.\n",
      "  # Remove the CWD from sys.path while we load stuff.\n"
     ]
    },
    {
     "name": "stdout",
     "output_type": "stream",
     "text": [
      "Finished reading target data for class aeroplane\n",
      "['/data/aumkar/validation/bicycle']\n",
      "Finished reading target data for class bicycle\n",
      "['/data/aumkar/validation/horse']\n",
      "Finished reading target data for class horse\n",
      "['/data/aumkar/validation/knife']\n",
      "Finished reading target data for class knife\n",
      "['/data/aumkar/validation/person']\n",
      "Finished reading target data for class person\n",
      "['/data/aumkar/validation/plant']\n",
      "Finished reading target data for class plant\n"
     ]
    }
   ],
   "source": [
    "x_t, y_t = [], []\n",
    "\n",
    "#Run for target data\n",
    "for i in dir_list1:\n",
    "    for j in i:\n",
    "        \n",
    "        xt, yt = data_load(TARGET_DIR, j)\n",
    "        print('Finished reading target data for class', j)\n",
    "        x_t.extend(xt)\n",
    "        y_t.extend(yt)\n",
    "    \n",
    "xtarget = np.asarray(x_t)\n",
    "ytarget = np.asarray(y_t)"
   ]
  },
  {
   "cell_type": "code",
   "execution_count": null,
   "metadata": {},
   "outputs": [],
   "source": [
    "(xtarget.shape, ytarget.shape)"
   ]
  },
  {
   "cell_type": "code",
   "execution_count": null,
   "metadata": {},
   "outputs": [],
   "source": [
    "h5f = h5py.File(os.path.join(DATA_LOAD_DIR, 'xtarget1.h5'), 'w')\n",
    "h5f.create_dataset('xtarget_1', data = xtarget)"
   ]
  },
  {
   "cell_type": "code",
   "execution_count": null,
   "metadata": {},
   "outputs": [],
   "source": [
    "h5f_ = h5py.File(os.path.join(DATA_LOAD_DIR, 'ytarget1.h5'), 'w')\n",
    "h5f_.create_dataset('ytarget_1', data = ytarget)"
   ]
  },
  {
   "cell_type": "code",
   "execution_count": null,
   "metadata": {},
   "outputs": [],
   "source": [
    "h5f.close()"
   ]
  },
  {
   "cell_type": "code",
   "execution_count": null,
   "metadata": {},
   "outputs": [],
   "source": [
    "h5f_.close()"
   ]
  }
 ],
 "metadata": {
  "kernelspec": {
   "display_name": "Python (daenv)",
   "language": "python",
   "name": "daenv"
  },
  "language_info": {
   "codemirror_mode": {
    "name": "ipython",
    "version": 3
   },
   "file_extension": ".py",
   "mimetype": "text/x-python",
   "name": "python",
   "nbconvert_exporter": "python",
   "pygments_lexer": "ipython3",
   "version": "3.6.8"
  }
 },
 "nbformat": 4,
 "nbformat_minor": 2
}
