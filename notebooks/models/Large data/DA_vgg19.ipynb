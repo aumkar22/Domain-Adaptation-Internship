{
 "cells": [
  {
   "cell_type": "code",
   "execution_count": 1,
   "metadata": {
    "colab": {
     "base_uri": "https://localhost:8080/",
     "height": 34
    },
    "colab_type": "code",
    "id": "J14xO_reul8J",
    "outputId": "7c644e69-3c63-4588-c1a5-24efbb108048"
   },
   "outputs": [
    {
     "name": "stderr",
     "output_type": "stream",
     "text": [
      "Using TensorFlow backend.\n"
     ]
    }
   ],
   "source": [
    "import keras\n",
    "import csv\n",
    "import os\n",
    "import itertools\n",
    "import numpy as np\n",
    "from keras.layers import Dropout, Flatten, Dense, Input, MaxPooling2D\n",
    "from keras import optimizers\n",
    "from keras.callbacks import ModelCheckpoint\n",
    "from keras.applications.vgg19 import VGG19\n",
    "from keras import backend as k\n",
    "from keras.preprocessing.image import ImageDataGenerator\n",
    "from keras.models import Model, load_model\n",
    "from sklearn.metrics import classification_report, confusion_matrix\n",
    "import matplotlib.pyplot as plt"
   ]
  },
  {
   "cell_type": "code",
   "execution_count": 2,
   "metadata": {},
   "outputs": [],
   "source": [
    "os.environ[\"CUDA_VISIBLE_DEVICES\"]=\"1\""
   ]
  },
  {
   "cell_type": "code",
   "execution_count": 3,
   "metadata": {
    "colab": {},
    "colab_type": "code",
    "id": "TqnSVOp4u8Yh"
   },
   "outputs": [],
   "source": [
    "ROOT_DIR = os.path.normpath(os.path.join(os.path.dirname(os.path.realpath('__file__'))))\n",
    "TRAIN_DIR = os.path.join(ROOT_DIR, 'data', 'train')\n",
    "TEST_DIR =  os.path.join(ROOT_DIR, 'data', 'validation')"
   ]
  },
  {
   "cell_type": "code",
   "execution_count": 4,
   "metadata": {
    "colab": {},
    "colab_type": "code",
    "id": "nC6rGfXdul8i"
   },
   "outputs": [],
   "source": [
    "img_width, img_height = 300, 300"
   ]
  },
  {
   "cell_type": "code",
   "execution_count": 5,
   "metadata": {
    "colab": {},
    "colab_type": "code",
    "id": "TlSZ80Ezul8u"
   },
   "outputs": [],
   "source": [
    "batch_size = 32\n",
    "epoch = 10\n",
    "drop_prob = 0.5\n",
    "out_class = 13"
   ]
  },
  {
   "cell_type": "code",
   "execution_count": 6,
   "metadata": {
    "colab": {},
    "colab_type": "code",
    "id": "maTv69diul85"
   },
   "outputs": [],
   "source": [
    "train_gen = ImageDataGenerator(rescale=1. / 255, zoom_range=0.2, horizontal_flip = True, vertical_flip = True)"
   ]
  },
  {
   "cell_type": "code",
   "execution_count": 7,
   "metadata": {
    "colab": {},
    "colab_type": "code",
    "id": "pjfnJgSRul9D"
   },
   "outputs": [],
   "source": [
    "test_gen = ImageDataGenerator(rescale=1. / 255)"
   ]
  },
  {
   "cell_type": "code",
   "execution_count": 8,
   "metadata": {
    "colab": {
     "base_uri": "https://localhost:8080/",
     "height": 34
    },
    "colab_type": "code",
    "id": "iPEXtjdIul9U",
    "outputId": "e94d3bbb-0aa0-4740-d1c2-5abe0e455331"
   },
   "outputs": [
    {
     "name": "stdout",
     "output_type": "stream",
     "text": [
      "Found 152397 images belonging to 13 classes.\n"
     ]
    }
   ],
   "source": [
    "train_generator = train_gen.flow_from_directory(TRAIN_DIR, target_size=(img_width, img_height), \n",
    "                                                batch_size=batch_size, class_mode='categorical')"
   ]
  },
  {
   "cell_type": "code",
   "execution_count": 9,
   "metadata": {
    "colab": {
     "base_uri": "https://localhost:8080/",
     "height": 34
    },
    "colab_type": "code",
    "id": "2nSnl3mGul9g",
    "outputId": "33632fb5-6857-44c2-a5c4-0b6045a0ebc3"
   },
   "outputs": [
    {
     "data": {
      "text/plain": [
       "\"val_generator = test_gen.flow_from_directory(VAL_DIR, target_size=(img_width, img_height), \\n                                                batch_size=batch_size, class_mode='categorical')\""
      ]
     },
     "execution_count": 9,
     "metadata": {},
     "output_type": "execute_result"
    }
   ],
   "source": [
    "'''val_generator = test_gen.flow_from_directory(VAL_DIR, target_size=(img_width, img_height), \n",
    "                                                batch_size=batch_size, class_mode='categorical')'''"
   ]
  },
  {
   "cell_type": "code",
   "execution_count": 10,
   "metadata": {
    "colab": {
     "base_uri": "https://localhost:8080/",
     "height": 34
    },
    "colab_type": "code",
    "id": "-nq1O6Lbul90",
    "outputId": "16770b69-f23c-4050-dbda-fcd535fa1abe"
   },
   "outputs": [
    {
     "name": "stdout",
     "output_type": "stream",
     "text": [
      "Found 55388 images belonging to 13 classes.\n"
     ]
    }
   ],
   "source": [
    "test_generator = test_gen.flow_from_directory(TEST_DIR, target_size=(img_width, img_height), \n",
    "                                                batch_size=batch_size, class_mode='categorical')"
   ]
  },
  {
   "cell_type": "code",
   "execution_count": 11,
   "metadata": {
    "colab": {
     "base_uri": "https://localhost:8080/",
     "height": 122
    },
    "colab_type": "code",
    "id": "uhJKBgWNul97",
    "outputId": "56c8a22e-d37a-40b2-a548-6d5fb0f1a0ae"
   },
   "outputs": [],
   "source": [
    "input_ = Input(shape=(img_width, img_height, 3))\n",
    "transfer_model = VGG19(input_tensor = input_, weights = 'imagenet', include_top = False)"
   ]
  },
  {
   "cell_type": "code",
   "execution_count": 12,
   "metadata": {
    "colab": {
     "base_uri": "https://localhost:8080/",
     "height": 88
    },
    "colab_type": "code",
    "id": "nwhef5J7ul-A",
    "outputId": "a4930c9e-37d0-41e4-c5d4-c48ea8957fab"
   },
   "outputs": [],
   "source": [
    "x = transfer_model.output\n",
    "\n",
    "x = MaxPooling2D(pool_size = 2, strides = 2)(x)\n",
    "\n",
    "x = Flatten()(x)\n",
    "\n",
    "x = Dropout(drop_prob)(x)\n",
    "\n",
    "out = Dense(out_class, activation = 'softmax')(x)"
   ]
  },
  {
   "cell_type": "code",
   "execution_count": 13,
   "metadata": {
    "colab": {},
    "colab_type": "code",
    "id": "NWqBY8aDul-G"
   },
   "outputs": [],
   "source": [
    "model = Model(inputs = transfer_model.input, outputs = out)"
   ]
  },
  {
   "cell_type": "code",
   "execution_count": 14,
   "metadata": {
    "colab": {},
    "colab_type": "code",
    "id": "jqnTDiKgul-I"
   },
   "outputs": [],
   "source": [
    "adam_ = optimizers.Adam(lr = 1e-4, beta_1=0.9, beta_2=0.999, epsilon=1e-8)"
   ]
  },
  {
   "cell_type": "code",
   "execution_count": 15,
   "metadata": {
    "colab": {},
    "colab_type": "code",
    "id": "OdOwcnMPul-L"
   },
   "outputs": [],
   "source": [
    "for layer in transfer_model.layers:\n",
    "    layer.trainable = False"
   ]
  },
  {
   "cell_type": "code",
   "execution_count": 16,
   "metadata": {
    "colab": {},
    "colab_type": "code",
    "id": "Ow0q-R-Rul-P"
   },
   "outputs": [],
   "source": [
    "model.compile(loss = 'categorical_crossentropy', optimizer = adam_, metrics = ['accuracy'])"
   ]
  },
  {
   "cell_type": "code",
   "execution_count": 17,
   "metadata": {
    "colab": {
     "base_uri": "https://localhost:8080/",
     "height": 1020
    },
    "colab_type": "code",
    "id": "KTSB_D5lul-T",
    "outputId": "15860c2d-42a9-45e3-8f96-6e85c95c521e",
    "scrolled": true
   },
   "outputs": [
    {
     "name": "stdout",
     "output_type": "stream",
     "text": [
      "_________________________________________________________________\n",
      "Layer (type)                 Output Shape              Param #   \n",
      "=================================================================\n",
      "input_1 (InputLayer)         (None, 300, 300, 3)       0         \n",
      "_________________________________________________________________\n",
      "block1_conv1 (Conv2D)        (None, 300, 300, 64)      1792      \n",
      "_________________________________________________________________\n",
      "block1_conv2 (Conv2D)        (None, 300, 300, 64)      36928     \n",
      "_________________________________________________________________\n",
      "block1_pool (MaxPooling2D)   (None, 150, 150, 64)      0         \n",
      "_________________________________________________________________\n",
      "block2_conv1 (Conv2D)        (None, 150, 150, 128)     73856     \n",
      "_________________________________________________________________\n",
      "block2_conv2 (Conv2D)        (None, 150, 150, 128)     147584    \n",
      "_________________________________________________________________\n",
      "block2_pool (MaxPooling2D)   (None, 75, 75, 128)       0         \n",
      "_________________________________________________________________\n",
      "block3_conv1 (Conv2D)        (None, 75, 75, 256)       295168    \n",
      "_________________________________________________________________\n",
      "block3_conv2 (Conv2D)        (None, 75, 75, 256)       590080    \n",
      "_________________________________________________________________\n",
      "block3_conv3 (Conv2D)        (None, 75, 75, 256)       590080    \n",
      "_________________________________________________________________\n",
      "block3_conv4 (Conv2D)        (None, 75, 75, 256)       590080    \n",
      "_________________________________________________________________\n",
      "block3_pool (MaxPooling2D)   (None, 37, 37, 256)       0         \n",
      "_________________________________________________________________\n",
      "block4_conv1 (Conv2D)        (None, 37, 37, 512)       1180160   \n",
      "_________________________________________________________________\n",
      "block4_conv2 (Conv2D)        (None, 37, 37, 512)       2359808   \n",
      "_________________________________________________________________\n",
      "block4_conv3 (Conv2D)        (None, 37, 37, 512)       2359808   \n",
      "_________________________________________________________________\n",
      "block4_conv4 (Conv2D)        (None, 37, 37, 512)       2359808   \n",
      "_________________________________________________________________\n",
      "block4_pool (MaxPooling2D)   (None, 18, 18, 512)       0         \n",
      "_________________________________________________________________\n",
      "block5_conv1 (Conv2D)        (None, 18, 18, 512)       2359808   \n",
      "_________________________________________________________________\n",
      "block5_conv2 (Conv2D)        (None, 18, 18, 512)       2359808   \n",
      "_________________________________________________________________\n",
      "block5_conv3 (Conv2D)        (None, 18, 18, 512)       2359808   \n",
      "_________________________________________________________________\n",
      "block5_conv4 (Conv2D)        (None, 18, 18, 512)       2359808   \n",
      "_________________________________________________________________\n",
      "block5_pool (MaxPooling2D)   (None, 9, 9, 512)         0         \n",
      "_________________________________________________________________\n",
      "max_pooling2d_1 (MaxPooling2 (None, 4, 4, 512)         0         \n",
      "_________________________________________________________________\n",
      "flatten_1 (Flatten)          (None, 8192)              0         \n",
      "_________________________________________________________________\n",
      "dropout_1 (Dropout)          (None, 8192)              0         \n",
      "_________________________________________________________________\n",
      "dense_1 (Dense)              (None, 13)                106509    \n",
      "=================================================================\n",
      "Total params: 20,130,893\n",
      "Trainable params: 106,509\n",
      "Non-trainable params: 20,024,384\n",
      "_________________________________________________________________\n"
     ]
    }
   ],
   "source": [
    "model.summary()"
   ]
  },
  {
   "cell_type": "code",
   "execution_count": null,
   "metadata": {
    "colab": {
     "base_uri": "https://localhost:8080/",
     "height": 69
    },
    "colab_type": "code",
    "id": "EnsO8vraul-X",
    "outputId": "f1a06b67-7bf0-46e1-dac6-2a99fc233740"
   },
   "outputs": [],
   "source": [
    "#tensorboard = TensorBoardColabCallback(TensorBoardColab()) #Using Tensorboard on google colab"
   ]
  },
  {
   "cell_type": "code",
   "execution_count": null,
   "metadata": {
    "colab": {},
    "colab_type": "code",
    "id": "h5_Q2O1Sul-d"
   },
   "outputs": [],
   "source": [
    "checkpointer = ModelCheckpoint(filepath='checkpoint_vgg19.h5', save_best_only=True)"
   ]
  },
  {
   "cell_type": "code",
   "execution_count": null,
   "metadata": {
    "colab": {},
    "colab_type": "code",
    "id": "IeUEjrX9ul-g"
   },
   "outputs": [],
   "source": [
    "callback_list = [checkpointer]"
   ]
  },
  {
   "cell_type": "code",
   "execution_count": 18,
   "metadata": {
    "colab": {
     "base_uri": "https://localhost:8080/",
     "height": 445
    },
    "colab_type": "code",
    "id": "nqtiC-Uvul-j",
    "outputId": "5e9aa96f-e191-4e78-c745-6ca5b28e0826"
   },
   "outputs": [
    {
     "name": "stdout",
     "output_type": "stream",
     "text": [
      "Epoch 1/10\n",
      "4762/4762 [==============================] - 2021s 424ms/step - loss: 0.6268 - acc: 0.7933\n",
      "Epoch 2/10\n",
      "4762/4762 [==============================] - 1990s 418ms/step - loss: 0.3301 - acc: 0.8884\n",
      "Epoch 3/10\n",
      "4762/4762 [==============================] - 1991s 418ms/step - loss: 0.2838 - acc: 0.9017\n",
      "Epoch 4/10\n",
      "4762/4762 [==============================] - 1992s 418ms/step - loss: 0.2608 - acc: 0.9089\n",
      "Epoch 5/10\n",
      "4762/4762 [==============================] - 1992s 418ms/step - loss: 0.2451 - acc: 0.9137\n",
      "Epoch 6/10\n",
      "4762/4762 [==============================] - 1988s 417ms/step - loss: 0.2353 - acc: 0.9169\n",
      "Epoch 7/10\n",
      "4762/4762 [==============================] - 1994s 419ms/step - loss: 0.2288 - acc: 0.9186\n",
      "Epoch 8/10\n",
      "4762/4762 [==============================] - 1994s 419ms/step - loss: 0.2224 - acc: 0.9210\n",
      "Epoch 9/10\n",
      "4762/4762 [==============================] - 2000s 420ms/step - loss: 0.2174 - acc: 0.9221\n",
      "Epoch 10/10\n",
      "4762/4762 [==============================] - 1999s 420ms/step - loss: 0.2156 - acc: 0.9224\n"
     ]
    }
   ],
   "source": [
    "history = model.fit_generator(train_generator, steps_per_epoch = int(152397/batch_size), epochs = epoch, shuffle = True)"
   ]
  },
  {
   "cell_type": "code",
   "execution_count": 19,
   "metadata": {
    "colab": {},
    "colab_type": "code",
    "id": "pz9Kc6QZwDtb"
   },
   "outputs": [],
   "source": [
    "Y_pred = model.predict_generator(test_generator, int(55388/batch_size+1))\n",
    "y_pred = np.argmax(Y_pred, axis=1)"
   ]
  },
  {
   "cell_type": "code",
   "execution_count": 24,
   "metadata": {
    "colab": {},
    "colab_type": "code",
    "id": "mi-Y5XEfwTKT"
   },
   "outputs": [],
   "source": [
    "test_loss, test_accuracy = model.evaluate_generator(test_generator, int(55388/batch_size+1))"
   ]
  },
  {
   "cell_type": "code",
   "execution_count": 25,
   "metadata": {
    "colab": {
     "base_uri": "https://localhost:8080/",
     "height": 34
    },
    "colab_type": "code",
    "id": "p3nR5bvfwVlD",
    "outputId": "2f134da4-7338-4344-fd6c-6e85383f41df"
   },
   "outputs": [
    {
     "data": {
      "text/plain": [
       "4.036480912406702"
      ]
     },
     "execution_count": 25,
     "metadata": {},
     "output_type": "execute_result"
    }
   ],
   "source": [
    "test_loss"
   ]
  },
  {
   "cell_type": "code",
   "execution_count": 26,
   "metadata": {
    "colab": {
     "base_uri": "https://localhost:8080/",
     "height": 34
    },
    "colab_type": "code",
    "id": "cUWqQG0AwfxM",
    "outputId": "c13b84db-f13e-4cd6-e54f-911d2fe7d5f3"
   },
   "outputs": [
    {
     "data": {
      "text/plain": [
       "0.3309922727009032"
      ]
     },
     "execution_count": 26,
     "metadata": {},
     "output_type": "execute_result"
    }
   ],
   "source": [
    "test_accuracy"
   ]
  },
  {
   "cell_type": "code",
   "execution_count": null,
   "metadata": {
    "colab": {},
    "colab_type": "code",
    "id": "TTXtKO27whs6"
   },
   "outputs": [],
   "source": [
    "model_check = load_model('checkpoint_vgg19.h5')"
   ]
  },
  {
   "cell_type": "code",
   "execution_count": null,
   "metadata": {
    "colab": {},
    "colab_type": "code",
    "id": "K9bMGx3hwl-w"
   },
   "outputs": [],
   "source": [
    "test_check_loss, test_check_acc = model_check.evaluate_generator(test_generator, int(795/batch_size+1))"
   ]
  },
  {
   "cell_type": "code",
   "execution_count": null,
   "metadata": {
    "colab": {
     "base_uri": "https://localhost:8080/",
     "height": 34
    },
    "colab_type": "code",
    "id": "3nXSdfFUwoAZ",
    "outputId": "56b611fd-b4bf-4d5f-ef18-97c5194657bf"
   },
   "outputs": [],
   "source": [
    "test_check_loss"
   ]
  },
  {
   "cell_type": "code",
   "execution_count": null,
   "metadata": {
    "colab": {
     "base_uri": "https://localhost:8080/",
     "height": 34
    },
    "colab_type": "code",
    "id": "cWG0HNOCwpUP",
    "outputId": "36b2a5f4-3685-4f38-aaf1-b1d7bb633d30"
   },
   "outputs": [],
   "source": [
    "test_check_acc"
   ]
  },
  {
   "cell_type": "code",
   "execution_count": 27,
   "metadata": {
    "colab": {},
    "colab_type": "code",
    "id": "_RzPVrPiwq_q"
   },
   "outputs": [],
   "source": [
    "target_names = ['aeroplane', 'bicycle', 'bus', 'car', 'horse', 'knife', 'motorcycle', 'person', 'plant', \n",
    "                'skateboard', 'train', 'truck']"
   ]
  },
  {
   "cell_type": "code",
   "execution_count": 28,
   "metadata": {
    "colab": {},
    "colab_type": "code",
    "id": "igT7YvY9wtHn"
   },
   "outputs": [],
   "source": [
    "def plot_confusion_matrix(cm, classes,\n",
    "                          normalize=False,\n",
    "                          title='Confusion matrix',\n",
    "                          cmap=plt.cm.Blues):\n",
    "    \"\"\"\n",
    "    This function prints and plots the confusion matrix.\n",
    "    Normalization can be applied by setting `normalize=True`.\n",
    "    \"\"\"\n",
    "    if normalize:\n",
    "        cm = cm.astype('float') / cm.sum(axis=1)[:, np.newaxis]\n",
    "        print(\"Normalized confusion matrix\")\n",
    "    else:\n",
    "        print('Confusion matrix')\n",
    "\n",
    "    print(cm)\n",
    "    \n",
    "    plt.figure(figsize=(20, 20))\n",
    "    plt.imshow(cm, interpolation='nearest', cmap=cmap)\n",
    "    plt.title(title)\n",
    "    plt.colorbar()\n",
    "    tick_marks = np.arange(len(classes))\n",
    "    plt.xticks(tick_marks, classes, rotation=45)\n",
    "    plt.yticks(tick_marks, classes)\n",
    "\n",
    "    fmt = '.2f' if normalize else 'd'\n",
    "    thresh = cm.max() / 2.\n",
    "    for i, j in itertools.product(range(cm.shape[0]), range(cm.shape[1])):\n",
    "        plt.text(j, i, format(cm[i, j], fmt),\n",
    "                 horizontalalignment=\"center\",\n",
    "                 color=\"white\" if cm[i, j] > thresh else \"black\")\n",
    "\n",
    "    plt.ylabel('True label')\n",
    "    plt.xlabel('Predicted label')\n",
    "    #plt.tight_layout()"
   ]
  },
  {
   "cell_type": "code",
   "execution_count": 29,
   "metadata": {
    "colab": {},
    "colab_type": "code",
    "id": "2wBSHv5GwvXG"
   },
   "outputs": [],
   "source": [
    "cnf = confusion_matrix(test_generator.classes, y_pred)"
   ]
  },
  {
   "cell_type": "code",
   "execution_count": 30,
   "metadata": {
    "colab": {
     "base_uri": "https://localhost:8080/",
     "height": 1672
    },
    "colab_type": "code",
    "id": "2w3DdiCuwx9c",
    "outputId": "deaf3f50-8a09-486b-8eae-d8ee50f4d624"
   },
   "outputs": [
    {
     "name": "stdout",
     "output_type": "stream",
     "text": [
      "Confusion matrix\n",
      "[[ 287   53  101  856  137   65  674    4  210   95  953  211]\n",
      " [ 256   47   79  818  121   59  665    3  199   86  902  240]\n",
      " [ 351   67  117 1040  149   95  886    8  305  118 1241  313]\n",
      " [ 781  153  263 2431  349  189 1980   14  647  269 2692  633]\n",
      " [ 323   57  126 1095  163   87  885    6  274  137 1275  263]\n",
      " [ 138   26   51  499   58   21  401    1  140   47  570  123]\n",
      " [ 432   67  153 1396  203  102 1079    4  373  141 1489  357]\n",
      " [ 306   40   88  937  141   70  782    2  241  111 1061  221]\n",
      " [ 302   57  120 1088  151   78  925    4  265  113 1150  296]\n",
      " [ 157   24   65  503   73   43  452    1  150   60  616  137]\n",
      " [ 327   46  106  912  147   79  838    3  265  112 1147  254]\n",
      " [ 431   94  143 1251  181   98 1109    7  367  128 1396  343]]\n"
     ]
    },
    {
     "data": {
      "image/png": "[encoded data removed]",
      "text/plain": [
       "<Figure size 1440x1440 with 2 Axes>"
      ]
     },
     "metadata": {
      "needs_background": "light"
     },
     "output_type": "display_data"
    }
   ],
   "source": [
    "plot_confusion_matrix(cnf, classes=target_names, title='Confusion matrix')"
   ]
  },
  {
   "cell_type": "code",
   "execution_count": 31,
   "metadata": {
    "colab": {
     "base_uri": "https://localhost:8080/",
     "height": 680
    },
    "colab_type": "code",
    "id": "84w3WeQKwz1Z",
    "outputId": "53d97f25-cc34-4ebb-ef52-21aa387f9dc5"
   },
   "outputs": [
    {
     "name": "stdout",
     "output_type": "stream",
     "text": [
      "Classification Report\n",
      "              precision    recall  f1-score   support\n",
      "\n",
      "   aeroplane       0.07      0.08      0.07      3646\n",
      "     bicycle       0.06      0.01      0.02      3475\n",
      "         bus       0.08      0.02      0.04      4690\n",
      "         car       0.19      0.23      0.21     10401\n",
      "       horse       0.09      0.03      0.05      4691\n",
      "       knife       0.02      0.01      0.01      2075\n",
      "  motorcycle       0.10      0.19      0.13      5796\n",
      "      person       0.04      0.00      0.00      4000\n",
      "       plant       0.08      0.06      0.07      4549\n",
      "  skateboard       0.04      0.03      0.03      2281\n",
      "       train       0.08      0.27      0.12      4236\n",
      "       truck       0.10      0.06      0.08      5548\n",
      "\n",
      "   micro avg       0.11      0.11      0.11     55388\n",
      "   macro avg       0.08      0.08      0.07     55388\n",
      "weighted avg       0.10      0.11      0.09     55388\n",
      "\n"
     ]
    }
   ],
   "source": [
    "print('Classification Report')\n",
    "print(classification_report(test_generator.classes, y_pred, target_names=target_names))"
   ]
  },
  {
   "cell_type": "code",
   "execution_count": 32,
   "metadata": {
    "colab": {},
    "colab_type": "code",
    "id": "jALmZrQSw-CZ"
   },
   "outputs": [],
   "source": [
    "model.save('vgg19.h5')"
   ]
  }
 ],
 "metadata": {
  "accelerator": "GPU",
  "colab": {
   "name": "DA_small_data_TL_vgg19.ipynb",
   "provenance": [],
   "version": "0.3.2"
  },
  "kernelspec": {
   "display_name": "Python (daenv)",
   "language": "python",
   "name": "daenv"
  },
  "language_info": {
   "codemirror_mode": {
    "name": "ipython",
    "version": 3
   },
   "file_extension": ".py",
   "mimetype": "text/x-python",
   "name": "python",
   "nbconvert_exporter": "python",
   "pygments_lexer": "ipython3",
   "version": "3.6.8"
  }
 },
 "nbformat": 4,
 "nbformat_minor": 1
}
