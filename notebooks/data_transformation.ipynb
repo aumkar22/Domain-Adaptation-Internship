{
 "cells": [
  {
   "cell_type": "code",
   "execution_count": null,
   "metadata": {},
   "outputs": [],
   "source": [
    "import os\n",
    "import glob\n",
    "import scipy.ndimage\n",
    "import numpy as np"
   ]
  },
  {
   "cell_type": "code",
   "execution_count": null,
   "metadata": {},
   "outputs": [],
   "source": [
    "ROOT_DIR = os.path.normpath(os.path.join(os.path.dirname(os.path.realpath('__file__'))))\n",
    "TRAIN_DIR = os.path.join(ROOT_DIR, 'data', 'train')\n",
    "TEST_DIR = os.path.join(ROOT_DIR, 'data', 'validation')"
   ]
  },
  {
   "cell_type": "code",
   "execution_count": null,
   "metadata": {},
   "outputs": [],
   "source": [
    "DIR_LIST = ['aeroplane', 'bicycle', 'bus', 'car', 'horse', 'knife', 'motorcycle', 'person', 'plant', 'skateboard', \n",
    "           'train', 'truck']"
   ]
  },
  {
   "cell_type": "code",
   "execution_count": null,
   "metadata": {},
   "outputs": [],
   "source": [
    "def data_load(dirs, lab):\n",
    "    \n",
    "    x, y = [], []\n",
    "    \n",
    "    for label, img in enumerate(glob.glob(os.path.join(dirs, lab))):\n",
    "        for i in glob.glob(os.path.join(img, '*.*')):\n",
    "            x.append(scipy.ndimage.imread(i, mode='RGB'))\n",
    "            y.append(label)\n",
    "    \n",
    "    return np.asarray(x), np.asarray(y)"
   ]
  },
  {
   "cell_type": "code",
   "execution_count": null,
   "metadata": {
    "scrolled": false
   },
   "outputs": [],
   "source": [
    "x_, y_, x_t, y_t = [], [], [], []\n",
    "\n",
    "#Run for source data\n",
    "for i in DIR_LIST:\n",
    "    \n",
    "    x, y = data_load(TRAIN_DIR, i)\n",
    "    print('Finished reading source data for class', i)\n",
    "            \n",
    "    x_.append(x)\n",
    "    y_.append(y)\n",
    "    \n",
    "    \n",
    "xsource = np.asarray(x_)\n",
    "ysource = np.asarray(y_)"
   ]
  },
  {
   "cell_type": "code",
   "execution_count": null,
   "metadata": {},
   "outputs": [],
   "source": [
    "(xsource[-1].shape, ysource[-1].shape)"
   ]
  },
  {
   "cell_type": "code",
   "execution_count": null,
   "metadata": {},
   "outputs": [],
   "source": [
    "len(xsource)"
   ]
  },
  {
   "cell_type": "code",
   "execution_count": null,
   "metadata": {},
   "outputs": [],
   "source": [
    "np.save('xsource1.npy', xsource[:3])"
   ]
  },
  {
   "cell_type": "code",
   "execution_count": null,
   "metadata": {},
   "outputs": [],
   "source": []
  },
  {
   "cell_type": "code",
   "execution_count": null,
   "metadata": {},
   "outputs": [],
   "source": [
    "np.save('ysource.npy', ysource)"
   ]
  },
  {
   "cell_type": "code",
   "execution_count": null,
   "metadata": {},
   "outputs": [],
   "source": [
    "#Run for target data\n",
    "for i in DIR_LIST:\n",
    "    \n",
    "    xt, yt = data_load(TEST_DIR, i)\n",
    "    print('Finished reading target data for class', i)\n",
    "    \n",
    "    x_t.append(x_t)\n",
    "    y_t.append(y_t)\n",
    "    \n",
    "xtarget = np.asarray(x_t)\n",
    "ytarget = np.asarray(y_t)"
   ]
  }
 ],
 "metadata": {
  "kernelspec": {
   "display_name": "Python (daenv)",
   "language": "python",
   "name": "daenv"
  },
  "language_info": {
   "codemirror_mode": {
    "name": "ipython",
    "version": 3
   },
   "file_extension": ".py",
   "mimetype": "text/x-python",
   "name": "python",
   "nbconvert_exporter": "python",
   "pygments_lexer": "ipython3",
   "version": "3.6.8"
  }
 },
 "nbformat": 4,
 "nbformat_minor": 2
}
