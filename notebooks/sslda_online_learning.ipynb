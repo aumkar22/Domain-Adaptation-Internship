{
 "cells": [
  {
   "cell_type": "code",
   "execution_count": null,
   "metadata": {},
   "outputs": [],
   "source": [
    "import os\n",
    "import random\n",
    "import numpy as np\n",
    "from imutils import paths\n",
    "from sklearn import linear_model\n",
    "from sklearn.metrics import confusion_matrix, classification_report"
   ]
  },
  {
   "cell_type": "code",
   "execution_count": null,
   "metadata": {},
   "outputs": [],
   "source": [
    "ROOT_DIR = os.path.normpath(os.path.join(os.path.dirname(os.path.realpath('__file__'))))\n",
    "SOURCE_DIR = os.path.abspath('/data/aumkar/train')\n",
    "TARGET_DIR = os.path.abspath('/data/aumkar/validation')\n",
    "DATA_LOAD_DIR = os.path.abspath('/data/aumkar/data_load')"
   ]
  },
  {
   "cell_type": "code",
   "execution_count": null,
   "metadata": {},
   "outputs": [],
   "source": [
    "source_path = list(paths.list_images(SOURCE_DIR))\n",
    "target_path = list(paths.list_images(TARGET_DIR))"
   ]
  },
  {
   "cell_type": "code",
   "execution_count": null,
   "metadata": {},
   "outputs": [],
   "source": [
    "len(target_path)"
   ]
  },
  {
   "cell_type": "code",
   "execution_count": null,
   "metadata": {
    "scrolled": true
   },
   "outputs": [],
   "source": [
    "x = []\n",
    "y = []\n",
    "\n",
    "for i in range(200):\n",
    "    \n",
    "    print('Data set: ', i)\n",
    "    \n",
    "    data = np.load(os.path.join(DATA_LOAD_DIR, 'inception', 'feat_incept_%s.npz' % i))\n",
    "    label = np.load(os.path.join(DATA_LOAD_DIR, 'inception', 'feat_incept_label_%s.npz' % i))\n",
    "    \n",
    "    x.append(data['a'])\n",
    "    y.append(label['a'])"
   ]
  },
  {
   "cell_type": "code",
   "execution_count": null,
   "metadata": {
    "scrolled": true
   },
   "outputs": [],
   "source": [
    "x_t = []\n",
    "y_t = []\n",
    "\n",
    "for i in range(50):\n",
    "    \n",
    "    print('Target data set: ', i)\n",
    "    \n",
    "    data_target = np.load(os.path.join(DATA_LOAD_DIR, 'inception', 'feat_incept_target_%s.npz' % i))\n",
    "    pseudo_label = np.load(os.path.join(DATA_LOAD_DIR, 'inception_predictions', 'incept_pred_%s.npz' % i))\n",
    "    \n",
    "    x_t.append(data_target['a'])\n",
    "    y_t.append(pseudo_label['a'])"
   ]
  },
  {
   "cell_type": "code",
   "execution_count": null,
   "metadata": {},
   "outputs": [],
   "source": [
    "xsource = lst2arr_reshape(x, 'data')\n",
    "ysource = lst2arr_reshape(y, 'label')\n",
    "xtarget = lst2arr_reshape(x_t, 'data')\n",
    "ytarget = lst2arr_reshape(y_t, 'label')"
   ]
  },
  {
   "cell_type": "code",
   "execution_count": null,
   "metadata": {},
   "outputs": [],
   "source": [
    "(xsource.shape, ysource.shape)"
   ]
  },
  {
   "cell_type": "code",
   "execution_count": null,
   "metadata": {},
   "outputs": [],
   "source": [
    "clf = linear_model.SGDClassifier(max_iter = 100, tol = 1e-3, n_jobs = -1)"
   ]
  },
  {
   "cell_type": "code",
   "execution_count": null,
   "metadata": {},
   "outputs": [],
   "source": [
    "def lst2arr_reshape(lst, data):\n",
    "    \n",
    "    arr = np.asarray(lst)\n",
    "    \n",
    "    if data == 'data':\n",
    "        return arr.reshape((arr.shape[0] * arr.shape[1], arr.shape[2]))\n",
    "    elif data == 'label':\n",
    "        return arr.reshape((arr.shape[0] * arr.shape[1]))"
   ]
  },
  {
   "cell_type": "code",
   "execution_count": null,
   "metadata": {},
   "outputs": [],
   "source": [
    "def num_gen(start, end, size): \n",
    "    num = [] \n",
    "  \n",
    "    for i in range(size): \n",
    "        num.append(random.randint(start, end)) \n",
    "  \n",
    "    return num"
   ]
  },
  {
   "cell_type": "code",
   "execution_count": null,
   "metadata": {},
   "outputs": [],
   "source": [
    "pseudo_label = np.load(os.path.join(DATA_LOAD_DIR, 'inception_predictions', 'incept_pred_865.npz'))"
   ]
  },
  {
   "cell_type": "code",
   "execution_count": null,
   "metadata": {},
   "outputs": [],
   "source": [
    "pseudo_label['a'].shape"
   ]
  },
  {
   "cell_type": "code",
   "execution_count": null,
   "metadata": {},
   "outputs": [],
   "source": [
    "def target_data_batches(size, pred, lab):\n",
    "    \n",
    "    sampid = np.arange(len(target_path))\n",
    "    np.random.shuffle(sampid)\n",
    "    \n",
    "    ids = num_gen(0, 865, size)\n",
    "    \n",
    "    x_t = []\n",
    "    y_t = []\n",
    "    \n",
    "    for i in ids:\n",
    "        \n",
    "        data_target = np.load(os.path.join(DATA_LOAD_DIR, 'inception', 'feat_incept_target_%s.npz' % i))\n",
    "        x_t.append(data_target['a'])\n",
    "        \n",
    "        if pred == 'first':\n",
    "                       \n",
    "            pseudo_label = np.load(os.path.join(DATA_LOAD_DIR, 'inception_predictions', 'incept_pred_%s.npz' % i))\n",
    "            y_t.append(pseudo_label['a'])\n",
    "            \n",
    "        elif pred == 'later':\n",
    "            \n",
    "            if i != 865 and i != 0:\n",
    "                y_t.append(lab[(i * 64) : (i * 64) + 64])\n",
    "            elif i == 0:\n",
    "                y_t.append(lab[:64])\n",
    "            elif i ==865:\n",
    "                y_t.append(lab[])\n",
    "        \n",
    "    if pred == 'first':\n",
    "        return lst2arr_reshape(x_t, 'data'), lst2arr_reshape(y_t, 'label')\n",
    "    else:\n",
    "        return np.asarray(x_t)"
   ]
  },
  {
   "cell_type": "code",
   "execution_count": null,
   "metadata": {},
   "outputs": [],
   "source": [
    "def predictions():\n",
    "    \n",
    "    pred = []\n",
    "    \n",
    "    for i in range(865):\n",
    "        \n",
    "        pred.append(clf.predict(np.load(os.path.join(DATA_LOAD_DIR, 'inception', 'feat_incept_target_%s.npz' % i))))\n",
    "        \n",
    "    return np.asarray(pred)"
   ]
  },
  {
   "cell_type": "code",
   "execution_count": null,
   "metadata": {},
   "outputs": [],
   "source": [
    "def single_sslda(sourcex, sourcey, targetx, targety, M):\n",
    "\n",
    "    for i in range(1, M):\n",
    "        \n",
    "        print('Iteration: ', i)\n",
    "         \n",
    "        n = (i / float(M)) * len(target_path)\n",
    "        \n",
    "        if i == 1:\n",
    "            target_sample, target_label = target_data_batches(n, 'first')\n",
    "        else:\n",
    "            target_sample = target_data_batches(n, 'later')\n",
    "            target_label = \n",
    "        \n",
    "        \n",
    "        for i in range(2381):\n",
    "            \n",
    "            data = np.load(os.path.join(DATA_LOAD_DIR, 'inception', 'feat_incept_%s.npz' % i))\n",
    "            label = np.load(os.path.join(DATA_LOAD_DIR, 'inception', 'feat_incept_label_%s.npz' % i))\n",
    "            \n",
    "            for j in range(865):\n",
    "                \n",
    "                \n",
    "        if i == 1:\n",
    "            target_label = targety[sampled_idxs]\n",
    "        else:\n",
    "            target_label = pred[sampled_idxs]\n",
    "        \n",
    "        concat_sample = np.append(sourcex, target_sample, axis = 0)\n",
    "        concat_label = np.append(sourcey, target_label, axis = 0)\n",
    "\n",
    "        clf.fit(concat_sample, concat_label)\n",
    "        \n",
    "        print('Predicting for iteration: ', i)\n",
    "            \n",
    "        fin_pred = predictions()\n",
    "        \n",
    "    return fin_pred"
   ]
  },
  {
   "cell_type": "code",
   "execution_count": null,
   "metadata": {
    "scrolled": true
   },
   "outputs": [],
   "source": [
    "sslda_pred = single_sslda(xsource, ysource, xtarget, ytarget, 20)"
   ]
  },
  {
   "cell_type": "code",
   "execution_count": null,
   "metadata": {},
   "outputs": [],
   "source": []
  },
  {
   "cell_type": "code",
   "execution_count": null,
   "metadata": {},
   "outputs": [],
   "source": [
    "classes = ['aeroplane', 'bicycle', 'bus', 'car', 'horse', 'knife', 'motorcycle', 'person', 'plant', 'skateboard', \n",
    "          'train', 'truck']"
   ]
  },
  {
   "cell_type": "code",
   "execution_count": null,
   "metadata": {},
   "outputs": [],
   "source": [
    "print(classification_report(ytarget, sslda_pred, target_names = classes))"
   ]
  },
  {
   "cell_type": "code",
   "execution_count": null,
   "metadata": {},
   "outputs": [],
   "source": []
  }
 ],
 "metadata": {
  "kernelspec": {
   "display_name": "Python (daenv)",
   "language": "python",
   "name": "daenv"
  },
  "language_info": {
   "codemirror_mode": {
    "name": "ipython",
    "version": 2
   },
   "file_extension": ".py",
   "mimetype": "text/x-python",
   "name": "python",
   "nbconvert_exporter": "python",
   "pygments_lexer": "ipython2",
   "version": "2.7.15"
  }
 },
 "nbformat": 4,
 "nbformat_minor": 2
}
