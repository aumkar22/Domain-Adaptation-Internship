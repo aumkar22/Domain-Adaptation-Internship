{
 "cells": [
  {
   "cell_type": "code",
   "execution_count": 1,
   "metadata": {
    "collapsed": true
   },
   "outputs": [],
   "source": [
    "import numpy as np\n",
    "import csv\n",
    "import os"
   ]
  },
  {
   "cell_type": "code",
   "execution_count": 2,
   "metadata": {
    "collapsed": true
   },
   "outputs": [],
   "source": [
    "ROOT_DIR = os.path.normpath(os.path.join(os.path.dirname(os.path.realpath('__file__'))))"
   ]
  },
  {
   "cell_type": "code",
   "execution_count": 3,
   "metadata": {
    "collapsed": true
   },
   "outputs": [],
   "source": [
    "DATA_DIR0 = os.path.join(ROOT_DIR, 'domain_adaptation_images', 'amazon')\n",
    "DATA_DIR1 = os.path.join(ROOT_DIR, 'domain_adaptation_images', 'dslr')\n",
    "DATA_DIR2 = os.path.join(ROOT_DIR, 'domain_adaptation_images', 'webcam')"
   ]
  },
  {
   "cell_type": "code",
   "execution_count": 4,
   "metadata": {
    "collapsed": true
   },
   "outputs": [],
   "source": [
    "dir_list = [DATA_DIR0, DATA_DIR1, DATA_DIR2]"
   ]
  },
  {
   "cell_type": "code",
   "execution_count": 6,
   "metadata": {
    "collapsed": false,
    "scrolled": false
   },
   "outputs": [
    {
     "name": "stdout",
     "output_type": "stream",
     "text": [
      "C:\\Users\\HP\\Downloads\\domain_adaptation_images\\amazon\n",
      "0\n",
      "0\n",
      "92\n",
      "82\n",
      "72\n",
      "82\n",
      "36\n",
      "94\n",
      "97\n",
      "91\n",
      "97\n",
      "81\n",
      "99\n",
      "100\n",
      "100\n",
      "98\n",
      "100\n",
      "99\n",
      "100\n",
      "94\n",
      "96\n",
      "95\n",
      "93\n",
      "100\n",
      "98\n",
      "98\n",
      "90\n",
      "75\n",
      "100\n",
      "99\n",
      "99\n",
      "96\n",
      "64\n",
      "C:\\Users\\HP\\Downloads\\domain_adaptation_images\\dslr\n",
      "0\n",
      "0\n",
      "12\n",
      "21\n",
      "24\n",
      "12\n",
      "16\n",
      "12\n",
      "15\n",
      "13\n",
      "14\n",
      "15\n",
      "13\n",
      "10\n",
      "24\n",
      "16\n",
      "31\n",
      "22\n",
      "12\n",
      "8\n",
      "10\n",
      "10\n",
      "13\n",
      "15\n",
      "23\n",
      "18\n",
      "10\n",
      "7\n",
      "18\n",
      "26\n",
      "21\n",
      "22\n",
      "15\n",
      "C:\\Users\\HP\\Downloads\\domain_adaptation_images\\webcam\n",
      "0\n",
      "0\n",
      "29\n",
      "21\n",
      "28\n",
      "12\n",
      "16\n",
      "31\n",
      "21\n",
      "40\n",
      "18\n",
      "19\n",
      "27\n",
      "27\n",
      "30\n",
      "19\n",
      "30\n",
      "43\n",
      "30\n",
      "27\n",
      "28\n",
      "32\n",
      "16\n",
      "20\n",
      "30\n",
      "27\n",
      "40\n",
      "11\n",
      "25\n",
      "30\n",
      "24\n",
      "23\n",
      "21\n"
     ]
    }
   ],
   "source": [
    "\n",
    "for i in dir_list:\n",
    "    \n",
    "    print(i)\n",
    "    for root, dirs, files in os.walk(i):\n",
    "        \n",
    "        count = 0\n",
    "        for fname in files:\n",
    "            \n",
    "            count += 1\n",
    "                       \n",
    "        print(count)"
   ]
  },
  {
   "cell_type": "code",
   "execution_count": null,
   "metadata": {
    "collapsed": true
   },
   "outputs": [],
   "source": []
  }
 ],
 "metadata": {
  "kernelspec": {
   "display_name": "Python [py3k]",
   "language": "python",
   "name": "Python [py3k]"
  },
  "language_info": {
   "codemirror_mode": {
    "name": "ipython",
    "version": 3
   },
   "file_extension": ".py",
   "mimetype": "text/x-python",
   "name": "python",
   "nbconvert_exporter": "python",
   "pygments_lexer": "ipython3",
   "version": "3.6.0"
  }
 },
 "nbformat": 4,
 "nbformat_minor": 0
}
